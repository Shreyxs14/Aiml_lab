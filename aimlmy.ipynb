{
  "cells": [
    {
      "cell_type": "markdown",
      "metadata": {
        "id": "8Vc58Dnv-odL"
      },
      "source": [
        "# **Tic-Tac Toe**"
      ]
    },
    {
      "cell_type": "code",
      "execution_count": null,
      "metadata": {
        "colab": {
          "background_save": true,
          "base_uri": "https://localhost:8080/"
        },
        "id": "xuLwR_t6FQk8",
        "outputId": "6148a109-ff8a-4892-f399-9fc0bedbcc4c"
      },
      "outputs": [
        {
          "name": "stdout",
          "output_type": "stream",
          "text": [
            "  |   |  \n",
            "---------\n",
            "  |   |  \n",
            "---------\n",
            "  |   |  \n",
            "---------\n"
          ]
        }
      ],
      "source": [
        "def is_winner(board, player):\n",
        "    for i in range(3):\n",
        "        if all(board[i][j] == player for j in range(3)) or \\\n",
        "            all(board[j][i] == player for j in range(3)):\n",
        "            return True\n",
        "    if all(board[i][i] == player for i in range(3)) or \\\n",
        "       all(board[i][2 - i] == player for i in range(3)):\n",
        "        return True\n",
        "    return False\n",
        "\n",
        "def is_full(board):\n",
        "    return all(board[i][j] != ' ' for i in range(3) for j in range(3))\n",
        "\n",
        "def minimax(board, depth, is_maximizing):\n",
        "    if is_winner(board, 'X'):\n",
        "        return -1\n",
        "    if is_winner(board, 'O'):\n",
        "        return 1\n",
        "    if is_full(board):\n",
        "        return 0\n",
        "\n",
        "    if is_maximizing:\n",
        "        max_eval = float('-inf')\n",
        "        for i in range(3):\n",
        "            for j in range(3):\n",
        "                if board[i][j] == ' ':\n",
        "                    board[i][j] = 'O'\n",
        "                    eval = minimax(board, depth + 1, False)\n",
        "                    board[i][j] = ' '\n",
        "                    max_eval = max(max_eval, eval)\n",
        "        return max_eval\n",
        "    else:\n",
        "        min_eval = float('inf')\n",
        "        for i in range(3):\n",
        "            for j in range(3):\n",
        "                if board[i][j] == ' ':\n",
        "                    board[i][j] = 'X'\n",
        "                    eval = minimax(board, depth + 1, True)\n",
        "                    board[i][j] = ' '\n",
        "                    min_eval = min(min_eval, eval)\n",
        "        return min_eval\n",
        "\n",
        "def find_best_move(board):\n",
        "    best_val = float('-inf')\n",
        "    best_move = (-1, -1)\n",
        "\n",
        "    for i in range(3):\n",
        "        for j in range(3):\n",
        "            if board[i][j] == ' ':\n",
        "                board[i][j] = 'O'\n",
        "                move_val = minimax(board, 0, False)\n",
        "                board[i][j] = ' '\n",
        "\n",
        "                if move_val > best_val:\n",
        "                    best_move = (i, j)\n",
        "                    best_val = move_val\n",
        "\n",
        "    return best_move\n",
        "\n",
        "def print_board(board):\n",
        "    for row in board:\n",
        "        print(\" | \".join(row))\n",
        "        print(\"---------\")\n",
        "\n",
        "def main():\n",
        "    board = [[' ' for _ in range(3)] for _ in range(3)]\n",
        "\n",
        "    while True:\n",
        "        print_board(board)\n",
        "        row=int(input(\"Enter row\"))\n",
        "        col=int(input(\"Enter col\"))\n",
        "        if board[row][col] == ' ':\n",
        "            board[row][col] = 'X'\n",
        "        else:\n",
        "            print(\"Invalid move. Try again.\")\n",
        "            continue\n",
        "\n",
        "        if is_winner(board, 'X'):\n",
        "            print(\"You win!\")\n",
        "            break\n",
        "        elif is_full(board):\n",
        "            print(\"It's a draw!\")\n",
        "            break\n",
        "\n",
        "        print(\"Computer's move:\")\n",
        "        comp_row, comp_col = find_best_move(board)\n",
        "        board[comp_row][comp_col] = 'O'\n",
        "\n",
        "        if is_winner(board, 'O'):\n",
        "            print_board(board)\n",
        "            print(\"Computer wins!\")\n",
        "            break\n",
        "        elif is_full(board):\n",
        "            print(\"It's a draw!\")\n",
        "            break\n",
        "\n",
        "\n",
        "main()"
      ]
    },
    {
      "cell_type": "markdown",
      "metadata": {
        "id": "yFLUDZC1C6OX"
      },
      "source": [
        "# **Alpha Beta pruning**"
      ]
    },
    {
      "cell_type": "code",
      "execution_count": null,
      "metadata": {
        "colab": {
          "base_uri": "https://localhost:8080/"
        },
        "id": "r8uNeofLDCiK",
        "outputId": "b22a2eb5-3103-4b6a-812a-8ea70b4c352d"
      },
      "outputs": [
        {
          "name": "stdout",
          "output_type": "stream",
          "text": [
            "Enter values separated by spaces: 3 5 6 9 1 2 0 -1\n",
            "Enter the depth: 3\n",
            "The optimal value is : 5\n"
          ]
        }
      ],
      "source": [
        "\n",
        "MAX, MIN = 1000, -1000\n",
        "\n",
        "def minimax(depth, nodeIndex, maximizingPlayer, values, alpha, beta,d):\n",
        "    if depth == d:\n",
        "        return values[nodeIndex]\n",
        "\n",
        "    if maximizingPlayer:\n",
        "        max_eval = MIN\n",
        "        for i in range(0, 2):\n",
        "            val = minimax(depth + 1, nodeIndex * 2 + i, False, values, alpha, beta,d)\n",
        "            max_eval = max(max_eval, val)\n",
        "            alpha = max(alpha, max_eval)\n",
        "\n",
        "            if beta <= alpha:\n",
        "                break\n",
        "        return max_eval\n",
        "\n",
        "    else:\n",
        "        min_eval = MAX\n",
        "        for i in range(0, 2):\n",
        "            val = minimax(depth + 1, nodeIndex * 2 + i, True, values, alpha, beta,d)\n",
        "            min_eval = min(min_eval, val)\n",
        "            beta = min(beta, min_eval)\n",
        "\n",
        "            if beta <= alpha:\n",
        "                break\n",
        "        return min_eval\n",
        "\n",
        "\n",
        "values = [int(x) for x in input(\"Enter values separated by spaces: \").split()]\n",
        "depth = int(input(\"Enter the depth: \"))\n",
        "\n",
        "print(\"The optimal value is :\", minimax(0, 0, True, values, MIN, MAX,depth))\n"
      ]
    },
    {
      "cell_type": "markdown",
      "metadata": {
        "id": "ju5AOS-EtkFH"
      },
      "source": [
        "# A star"
      ]
    },
    {
      "cell_type": "code",
      "execution_count": null,
      "metadata": {
        "colab": {
          "background_save": true,
          "base_uri": "https://localhost:8080/"
        },
        "id": "1mxDcRkXtmzr",
        "outputId": "6f473d21-3d45-421a-98a8-d3e2e485c951"
      },
      "outputs": [
        {
          "name": "stdout",
          "output_type": "stream",
          "text": [
            "No solution found.\n"
          ]
        }
      ],
      "source": [
        "import numpy as np\n",
        "from queue import PriorityQueue\n",
        "\n",
        "class State:\n",
        "    def __init__(self, state, parent):\n",
        "        self.state = state\n",
        "        self.parent = parent\n",
        "\n",
        "    def __lt__(self, other):\n",
        "        return False  # Define a default comparison method\n",
        "\n",
        "class Puzzle:\n",
        "    def __init__(self, initial_state, goal_state):\n",
        "        self.initial_state = initial_state\n",
        "        self.goal_state = goal_state\n",
        "\n",
        "\n",
        "    def print_state(self, state):\n",
        "        print(state[:, :])\n",
        "\n",
        "    def is_goal(self, state):\n",
        "        return np.array_equal(state, self.goal_state)\n",
        "\n",
        "    def get_possible_moves(self, state):\n",
        "        possible_moves = []\n",
        "        zero_pos = np.where(state == 0)\n",
        "        directions = [(0, -1), (0, 1), (-1, 0), (1, 0)]  # Left, Right, Up, Down\n",
        "        for direction in directions:\n",
        "            new_pos = (zero_pos[0] + direction[0], zero_pos[1] + direction[1])\n",
        "            if 0 <= new_pos[0] < 3 and 0 <= new_pos[1] < 3:  # Check boundaries\n",
        "                new_state = np.copy(state)\n",
        "                new_state[zero_pos], new_state[new_pos] = new_state[new_pos], new_state[zero_pos]  # Swap\n",
        "                possible_moves.append(new_state)\n",
        "        return possible_moves\n",
        "\n",
        "    def heuristic(self, state):\n",
        "         return np.count_nonzero(state != self.goal_state)\n",
        "\n",
        "\n",
        "    def solve(self):\n",
        "        queue = PriorityQueue()\n",
        "        initial_state = State(self.initial_state, None)\n",
        "        queue.put((0, initial_state))  # Put State object in queue\n",
        "        visited = set()\n",
        "\n",
        "        while not queue.empty():\n",
        "            priority, current_state = queue.get()\n",
        "            if self.is_goal(current_state.state):\n",
        "                return current_state  # Return final state\n",
        "            for move in self.get_possible_moves(current_state.state):\n",
        "                move_state = State(move, current_state)  # Create new State for move\n",
        "                if str(move_state.state) not in visited:\n",
        "                    visited.add(str(move_state.state))\n",
        "                    priority = self.heuristic(move_state.state)\n",
        "                    queue.put((priority, move_state))  # Put State object in queue\n",
        "        return None\n",
        "\n",
        "# Test the function\n",
        "initial_state = np.array([[2, 1, 8], [4, 0, 3], [7, 6, 5]])\n",
        "goal_state = np.array([[2, 1, 8], [4, 0, 3], [7, 5, 6]])\n",
        "puzzle = Puzzle(initial_state, goal_state)\n",
        "solution = puzzle.solve()\n",
        "move1 = -1\n",
        "if solution is not None:\n",
        "    moves = []\n",
        "    while solution is not None:  # Go through parents to get moves\n",
        "        moves.append(solution.state)\n",
        "        solution = solution.parent\n",
        "    for move in reversed(moves):\n",
        "        move1+=1 # Print moves in correct order\n",
        "        print(\"\\nnew State\")\n",
        "        puzzle.print_state(move)\n",
        "    print(\"no of moves: \",move1)\n",
        "else:\n",
        "    print(\"No solution found.\")"
      ]
    },
    {
      "cell_type": "markdown",
      "metadata": {
        "id": "p6tFTnoBDdAb"
      },
      "source": [
        "# **Hill climb search**"
      ]
    },
    {
      "cell_type": "code",
      "execution_count": null,
      "metadata": {
        "colab": {
          "base_uri": "https://localhost:8080/"
        },
        "id": "vhc8v7kqDgLO",
        "outputId": "2617556d-741b-4551-d89d-81f669cd005d"
      },
      "outputs": [
        {
          "name": "stdout",
          "output_type": "stream",
          "text": [
            "\n",
            "Enter a function of x: -x**2+1\n",
            "\n",
            "Enter the starting value to begin the search: 0\n",
            "The maxima is at x =  0.0\n",
            "The maximum value obtained is  1.0\n"
          ]
        }
      ],
      "source": [
        "def hill_climbing(func, start, step_size=0.01, max_iterations=1000):\n",
        "    current_position = start\n",
        "    current_value = func(current_position)\n",
        "\n",
        "    for i in range(max_iterations):\n",
        "        next_position_positive = current_position + step_size\n",
        "        next_value_positive = func(next_position_positive)\n",
        "\n",
        "        next_position_negative = current_position - step_size\n",
        "        next_value_negative = func(next_position_negative)\n",
        "\n",
        "        if next_value_positive > current_value and next_value_positive >= next_value_negative:\n",
        "            current_position = next_position_positive\n",
        "            current_value = next_value_positive\n",
        "        elif next_value_negative > current_value and next_value_negative > next_value_positive:\n",
        "            current_position = next_position_negative\n",
        "            current_value = next_value_negative\n",
        "        else:\n",
        "            break\n",
        "\n",
        "    return current_position, current_value\n",
        "\n",
        "# Get the function from the user\n",
        "while True:\n",
        "    func_str = input(\"\\nEnter a function of x: \")\n",
        "    break\n",
        "\n",
        "# Convert the string into a function\n",
        "func = lambda x: eval(func_str)\n",
        "\n",
        "# Get the starting point from the user\n",
        "while True:\n",
        "    start_str = input(\"\\nEnter the starting value to begin the search: \")\n",
        "    start = float(start_str)\n",
        "    break\n",
        "\n",
        "\n",
        "maxima, max_value = hill_climbing(func, start)\n",
        "print(f\"The maxima is at x = \",maxima)\n",
        "print(f\"The maximum value obtained is \",max_value)"
      ]
    },
    {
      "cell_type": "markdown",
      "metadata": {
        "id": "4xHmqht-DlIK"
      },
      "source": [
        "# **Logistic Regression**"
      ]
    },
    {
      "cell_type": "code",
      "execution_count": null,
      "metadata": {
        "colab": {
          "base_uri": "https://localhost:8080/"
        },
        "id": "VS4gM4XzjJfn",
        "outputId": "a9b12617-201f-447d-b7aa-aab67247c050"
      },
      "outputs": [
        {
          "data": {
            "text/plain": [
              "array([[-0.90068117,  1.01900435],\n",
              "       [-1.14301691, -0.13197948],\n",
              "       [-1.38535265,  0.32841405],\n",
              "       [-1.50652052,  0.09821729],\n",
              "       [-1.02184904,  1.24920112]])"
            ]
          },
          "execution_count": 10,
          "metadata": {},
          "output_type": "execute_result"
        }
      ],
      "source": [
        "import numpy as np\n",
        "from sklearn import datasets\n",
        "from sklearn.model_selection import train_test_split\n",
        "from sklearn.preprocessing import StandardScaler\n",
        "\n",
        "iris=datasets.load_iris()\n",
        "x = iris.data[:,:2]\n",
        "y = (iris.target!=0)*1\n",
        "\n",
        "sc=StandardScaler()\n",
        "x=sc.fit_transform(x)\n",
        "x[:5]"
      ]
    },
    {
      "cell_type": "code",
      "execution_count": null,
      "metadata": {
        "id": "p1WZ-fWrkUKE"
      },
      "outputs": [],
      "source": [
        "x_train,x_test,y_train,y_test = train_test_split(x,y,test_size=0.4,random_state=42)"
      ]
    },
    {
      "cell_type": "code",
      "execution_count": null,
      "metadata": {
        "id": "e5bZkHoKlGih"
      },
      "outputs": [],
      "source": [
        "class LR():\n",
        "  def __init__(self):\n",
        "    self.weights=None\n",
        "\n",
        "  def sigmoid(self,z):\n",
        "    return 1.0/(1.0 + np.exp(-z))\n",
        "\n",
        "  def cost(self,h,y):\n",
        "    return -(y*np.log(h)+(1-y)*np.log(1-h))\n",
        "\n",
        "  def gradient(self,x,h,y):\n",
        "    return np.dot(x.T,(h-y))/y.shape[0]\n",
        "\n",
        "  def fit(self,x,y,num_iterations=200,learning_rate=0.01):\n",
        "    self.weights=np.zeros(x.shape[1])\n",
        "    for i in range(num_iterations):\n",
        "      z=np.dot(x,self.weights)\n",
        "      h=self.sigmoid(z)\n",
        "      grad=self.gradient(x,h,y)\n",
        "      self.weights-=grad*learning_rate\n",
        "\n",
        "  def predict(self,x):\n",
        "    z=np.dot(x,self.weights)\n",
        "    return (self.sigmoid(z)>0.5)*1"
      ]
    },
    {
      "cell_type": "code",
      "execution_count": null,
      "metadata": {
        "id": "D-O9vX6omt5-"
      },
      "outputs": [],
      "source": [
        "lr=LR()\n",
        "lr.fit(x_train,y_train,num_iterations=200,learning_rate=0.01)"
      ]
    },
    {
      "cell_type": "code",
      "execution_count": null,
      "metadata": {
        "colab": {
          "base_uri": "https://localhost:8080/"
        },
        "id": "yzmWWGlOnOUC",
        "outputId": "f7d99e35-72c5-437a-fd67-0ae68679b78a"
      },
      "outputs": [
        {
          "data": {
            "text/plain": [
              "array([1, 0, 1, 1, 1, 0, 1, 1, 1, 1, 1, 0, 0, 0, 0, 1, 1, 1, 1, 1, 0, 1,\n",
              "       0, 1, 1, 1, 1, 1, 0, 0, 0, 0, 1, 0, 0, 1, 1, 0, 0, 0, 1, 1, 1, 0,\n",
              "       0, 1, 1, 1, 1, 1, 1, 1, 1, 0, 1, 1, 0, 0, 0, 1])"
            ]
          },
          "execution_count": 22,
          "metadata": {},
          "output_type": "execute_result"
        }
      ],
      "source": [
        "y_pred = lr.predict(x_test)\n",
        "np.mean(y_pred==y_test)\n",
        "y_test"
      ]
    },
    {
      "cell_type": "code",
      "execution_count": null,
      "metadata": {
        "colab": {
          "base_uri": "https://localhost:8080/"
        },
        "id": "EncAZewGnWnl",
        "outputId": "77f1b0d2-3f37-40d9-dac7-15dfcbffcb98"
      },
      "outputs": [
        {
          "data": {
            "text/plain": [
              "array([1, 0, 1, 1, 1, 0, 1, 1, 1, 1, 1, 0, 0, 0, 0, 1, 1, 1, 1, 1, 0, 1,\n",
              "       0, 1, 1, 1, 1, 1, 0, 0, 0, 0, 1, 0, 0, 1, 1, 0, 0, 0, 1, 0, 1, 0,\n",
              "       0, 1, 1, 1, 1, 1, 1, 1, 0, 0, 1, 1, 0, 0, 0, 1])"
            ]
          },
          "execution_count": 23,
          "metadata": {},
          "output_type": "execute_result"
        }
      ],
      "source": [
        "y_pred"
      ]
    },
    {
      "cell_type": "code",
      "execution_count": null,
      "metadata": {
        "colab": {
          "base_uri": "https://localhost:8080/",
          "height": 489
        },
        "id": "xyg_7fe9n1wZ",
        "outputId": "3d9e063d-7a6e-4e38-ee7c-6ae9104c583a"
      },
      "outputs": [
        {
          "data": {
            "text/plain": [
              "Text(0, 0.5, 'Sepal width')"
            ]
          },
          "execution_count": 26,
          "metadata": {},
          "output_type": "execute_result"
        },
        {
          "data": {
            "image/png": "[encoded data removed]",
            "text/plain": [
              "<Figure size 640x480 with 1 Axes>"
            ]
          },
          "metadata": {},
          "output_type": "display_data"
        }
      ],
      "source": [
        "import matplotlib.pyplot as plt\n",
        "plt.scatter(x_train[:,0],x_train[:,1], c=y_train)\n",
        "plt.title('Logistic Regression Decision Boundaries')\n",
        "plt.xlabel('Sepal length')\n",
        "plt.ylabel('Sepal width')"
      ]
    },
    {
      "cell_type": "markdown",
      "metadata": {
        "id": "f4GkiIHdrS53"
      },
      "source": [
        "# **Niaye Bayes**"
      ]
    },
    {
      "cell_type": "code",
      "execution_count": null,
      "metadata": {
        "colab": {
          "base_uri": "https://localhost:8080/"
        },
        "id": "191BjholrPG_",
        "outputId": "d411ae1a-0305-4246-8ecf-a06890bf0dc5"
      },
      "outputs": [
        {
          "data": {
            "text/plain": [
              "array([[5.1, 3.5, 1.4, 0.2],\n",
              "       [4.9, 3. , 1.4, 0.2],\n",
              "       [4.7, 3.2, 1.3, 0.2],\n",
              "       [4.6, 3.1, 1.5, 0.2],\n",
              "       [5. , 3.6, 1.4, 0.2],\n",
              "       [5.4, 3.9, 1.7, 0.4],\n",
              "       [4.6, 3.4, 1.4, 0.3],\n",
              "       [5. , 3.4, 1.5, 0.2],\n",
              "       [4.4, 2.9, 1.4, 0.2],\n",
              "       [4.9, 3.1, 1.5, 0.1]])"
            ]
          },
          "execution_count": 75,
          "metadata": {},
          "output_type": "execute_result"
        }
      ],
      "source": [
        "import numpy as np\n",
        "from sklearn import datasets\n",
        "from sklearn.model_selection import train_test_split\n",
        "\n",
        "iris = datasets.load_iris()\n",
        "x = iris.data\n",
        "y = iris.target\n",
        "\n",
        "x[:10]\n"
      ]
    },
    {
      "cell_type": "code",
      "execution_count": null,
      "metadata": {
        "id": "D-j5H4DkHCuQ"
      },
      "outputs": [],
      "source": [
        "x_train, x_test, y_train, y_test = train_test_split(x, y,test_size=0.2, random_state=42)"
      ]
    },
    {
      "cell_type": "code",
      "execution_count": null,
      "metadata": {
        "id": "yuGTvxXYSH_7"
      },
      "outputs": [],
      "source": [
        "class NB():\n",
        "  def fit(self,x,y):\n",
        "    n_sample,n_features=x.shape\n",
        "    self.classes=np.unique(y)\n",
        "    n_classes=len(self.classes)\n",
        "\n",
        "    self.means = np.zeros((n_classes,n_features))\n",
        "    self.vars = np.zeros((n_classes,n_features))\n",
        "    self.priors = np.zeros(n_classes)\n",
        "\n",
        "    for i in range(n_classes):\n",
        "      c=self.classes[i]\n",
        "      x_c=x[y==c]\n",
        "      self.means[i,:] = x_c.mean(axis=0)\n",
        "      self.vars[i,:] = x_c.var(axis=0)\n",
        "      self.priors[i]=x_c.shape[0]/x.shape[0]\n",
        "\n",
        "  def predictone(self,x):\n",
        "    posteriors=[]\n",
        "    for i in range(len(self.classes)):\n",
        "      c=self.classes[i]\n",
        "      prior=np.log(self.priors[i])\n",
        "      class_conditional = np.sum(np.log(self.pdf(x,i)))\n",
        "      posterior = prior + class_conditional\n",
        "      posteriors.append(posterior)\n",
        "\n",
        "    return self.classes[np.argmax(posteriors)]\n",
        "\n",
        "  def predict(self,X):\n",
        "    return [self.predictone(x) for x in X]\n",
        "\n",
        "  def pdf(self,x,i):\n",
        "    mean=self.means[i]\n",
        "    var = self.vars[i]\n",
        "    num = np.exp(-(x-mean)**2/2*var)\n",
        "    den = np.sqrt(2*np.pi*var)\n",
        "    return num/den"
      ]
    },
    {
      "cell_type": "code",
      "execution_count": null,
      "metadata": {
        "colab": {
          "base_uri": "https://localhost:8080/"
        },
        "id": "7KeHOHpFVNoC",
        "outputId": "a4e9b5a3-38d8-424c-fb08-7b516f3e3080"
      },
      "outputs": [
        {
          "data": {
            "text/plain": [
              "((120, 4), (120,))"
            ]
          },
          "execution_count": 78,
          "metadata": {},
          "output_type": "execute_result"
        }
      ],
      "source": [
        "nb=NB()\n",
        "nb.fit(x_train,y_train)\n",
        "x_train.shape,y_train.shape"
      ]
    },
    {
      "cell_type": "code",
      "execution_count": null,
      "metadata": {
        "colab": {
          "base_uri": "https://localhost:8080/"
        },
        "id": "6V_WUVo9WKNR",
        "outputId": "daf45e4a-0f60-46a1-ece3-9c4f09452059"
      },
      "outputs": [
        {
          "data": {
            "text/plain": [
              "0.3333333333333333"
            ]
          },
          "execution_count": 79,
          "metadata": {},
          "output_type": "execute_result"
        }
      ],
      "source": [
        "y_pred=nb.predict(x_test)\n",
        "np.mean(y_pred==y_test)"
      ]
    },
    {
      "cell_type": "code",
      "execution_count": null,
      "metadata": {
        "id": "JnX-0eQdW5Cx"
      },
      "outputs": [],
      "source": [
        "y_pred"
      ]
    },
    {
      "cell_type": "code",
      "execution_count": null,
      "metadata": {
        "id": "pb0Ie7JJW8V6"
      },
      "outputs": [],
      "source": [
        "y_test"
      ]
    },
    {
      "cell_type": "markdown",
      "metadata": {
        "id": "Q0JjCaDnYSlx"
      },
      "source": [
        "# **KNN**"
      ]
    },
    {
      "cell_type": "code",
      "execution_count": null,
      "metadata": {
        "id": "kOsoKNlhYVHa"
      },
      "outputs": [],
      "source": [
        "from sklearn import datasets\n",
        "from sklearn.model_selection import train_test_split\n",
        "import numpy as np\n",
        "\n",
        "iris=datasets.load_iris()\n",
        "x=iris.data\n",
        "y=iris.target\n",
        "\n",
        "x_train,x_test,y_train,y_test = train_test_split(x,y,test_size=0.2,random_state=1)"
      ]
    },
    {
      "cell_type": "code",
      "execution_count": null,
      "metadata": {
        "id": "6P5f-eyrypvM"
      },
      "outputs": [],
      "source": [
        "from collections import Counter\n",
        "class KNN():\n",
        "  def __init__(self,k=3):\n",
        "    self.k=3\n",
        "  def fit(self,x,y):\n",
        "    self.x_train=x\n",
        "    self.y_train=y\n",
        "  def predictone(self,x):\n",
        "    distances=[]\n",
        "    for x_t in x_train:\n",
        "      distances.append(np.linalg.norm(x-x_t))\n",
        "    k_indices = np.argsort(distances)[:self.k]\n",
        "    k_nearest_labels=[self.y_train[i] for i in k_indices]\n",
        "    most_common=Counter(k_nearest_labels).most_common(1)\n",
        "    return most_common[0][0]\n",
        "  def predict(self,x):\n",
        "    return [self.predictone(xt) for xt in x]\n"
      ]
    },
    {
      "cell_type": "code",
      "execution_count": null,
      "metadata": {
        "id": "Mdhg5UAd0CCj"
      },
      "outputs": [],
      "source": [
        "knn=KNN(k=3)\n",
        "knn.fit(x_train,y_train)"
      ]
    },
    {
      "cell_type": "code",
      "execution_count": null,
      "metadata": {
        "colab": {
          "base_uri": "https://localhost:8080/"
        },
        "id": "y2EqDPM_0HgS",
        "outputId": "40c3ce72-6d63-428c-e4a9-2f1f804d7569"
      },
      "outputs": [
        {
          "data": {
            "text/plain": [
              "1.0"
            ]
          },
          "execution_count": 89,
          "metadata": {},
          "output_type": "execute_result"
        }
      ],
      "source": [
        "y_pred=knn.predict(x_test)\n",
        "np.mean(y_pred==y_test)"
      ]
    },
    {
      "cell_type": "code",
      "execution_count": null,
      "metadata": {
        "colab": {
          "base_uri": "https://localhost:8080/",
          "height": 447
        },
        "id": "2suWJuCg0-5Z",
        "outputId": "269761f2-b038-4fdd-a94f-6b59d920e43d"
      },
      "outputs": [
        {
          "data": {
            "text/plain": [
              "<Axes: >"
            ]
          },
          "execution_count": 90,
          "metadata": {},
          "output_type": "execute_result"
        },
        {
          "data": {
            "image/png": "[encoded data removed]",
            "text/plain": [
              "<Figure size 640x480 with 2 Axes>"
            ]
          },
          "metadata": {},
          "output_type": "display_data"
        }
      ],
      "source": [
        "from sklearn.metrics import confusion_matrix\n",
        "import seaborn as sns\n",
        "cm = confusion_matrix(y_test,y_pred)\n",
        "sns.heatmap(cm,annot=True)"
      ]
    },
    {
      "cell_type": "markdown",
      "metadata": {
        "id": "kEyzp9FJ1k1p"
      },
      "source": [
        "# K-Means"
      ]
    },
    {
      "cell_type": "code",
      "execution_count": null,
      "metadata": {
        "id": "IfsvOYbR1m0M"
      },
      "outputs": [],
      "source": [
        "import numpy as np\n",
        "\n",
        "class Cluster:\n",
        "  def __init__(self,centroid):\n",
        "    self.centroid = centroid\n",
        "    self.points = []\n",
        "  def update_centroid(self):\n",
        "    points=np.array(self.points)\n",
        "    self.centroid = np.mean(points,axis=0)\n",
        "  def get_distance(self,point):\n",
        "    return np.linalg.norm(self.centroid-point,axis=0)\n",
        "  def add_point(self,point):\n",
        "    self.points.append(point)\n",
        "  def clear_point(self):\n",
        "    self.points.clear()"
      ]
    },
    {
      "cell_type": "code",
      "execution_count": null,
      "metadata": {
        "id": "wTxS2EOHlUBj"
      },
      "outputs": [],
      "source": [
        "class Kmeans:\n",
        "  def __init__(self,k=3,max_itr=100):\n",
        "    self.k=k\n",
        "    self.max_itr=max_itr\n",
        "  def find_cc(self,point):\n",
        "    close_cluster=self.cluster[0]\n",
        "    close_dist=self.cluster[0].get_distance(point)\n",
        "    for c in self.cluster:\n",
        "      dist = c.get_distance(point)\n",
        "      if dist < close_dist:\n",
        "        close_cluster = c\n",
        "        close_dist=dist\n",
        "    return close_cluster\n",
        "\n",
        "  def fit(self,x):\n",
        "    rand_ind = np.random.choice(x.shape[0],size=self.k,replace=False)\n",
        "    rand_pts = [x[i] for i in rand_ind]\n",
        "    self.cluster = [Cluster(point) for point in rand_pts]\n",
        "    for i in range(self.max_itr):\n",
        "      for point in x:\n",
        "        cc = self.find_cc(point)\n",
        "        cc.add_point(point)\n",
        "      for ct in self.cluster:\n",
        "        ct.update_centroid()\n",
        "        ct.clear_point()\n",
        "\n",
        "  def pred(self,point):\n",
        "    return id(self.find_cc(point))"
      ]
    },
    {
      "cell_type": "code",
      "execution_count": null,
      "metadata": {
        "id": "qR8i2D45oNvz"
      },
      "outputs": [],
      "source": [
        "from sklearn import datasets\n",
        "x, y = datasets.make_blobs(n_samples=300, centers=3, cluster_std=1, random_state=42)"
      ]
    },
    {
      "cell_type": "code",
      "execution_count": null,
      "metadata": {
        "id": "UlUe0fDnpG2d"
      },
      "outputs": [],
      "source": [
        "km = Kmeans(3)\n",
        "km.fit(x)"
      ]
    },
    {
      "cell_type": "code",
      "execution_count": null,
      "metadata": {
        "id": "349BqnnKpvJH"
      },
      "outputs": [],
      "source": [
        "y = []\n",
        "for i in range(len(x)):\n",
        "  y.append(km.pred(x[i]))"
      ]
    },
    {
      "cell_type": "code",
      "execution_count": null,
      "metadata": {
        "colab": {
          "base_uri": "https://localhost:8080/",
          "height": 430
        },
        "id": "XtS7p8gIp2ap",
        "outputId": "ccfe859d-6f3a-4cc6-cc1c-25cd849e5ffa"
      },
      "outputs": [
        {
          "data": {
            "image/png": "[encoded data removed]",
            "text/plain": [
              "<Figure size 640x480 with 1 Axes>"
            ]
          },
          "metadata": {},
          "output_type": "display_data"
        }
      ],
      "source": [
        "\n",
        "import matplotlib.pyplot as plt\n",
        "\n",
        "plt.scatter(x[:,0], x[:,1], c=y )\n",
        "for cluster in km.cluster:\n",
        "  plt.plot(cluster.centroid[0], cluster.centroid[1], marker='x', color=\"red\")"
      ]
    }
  ],
  "metadata": {
    "colab": {
      "provenance": []
    },
    "kernelspec": {
      "display_name": "Python 3",
      "name": "python3"
    },
    "language_info": {
      "name": "python"
    }
  },
  "nbformat": 4,
  "nbformat_minor": 0
}